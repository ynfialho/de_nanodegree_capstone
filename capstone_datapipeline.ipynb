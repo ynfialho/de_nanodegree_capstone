{
 "cells": [
  {
   "cell_type": "markdown",
   "metadata": {},
   "source": [
    "## Data Engineering Capstone Project\n",
    "#### Project Summary\n",
    "The data sources will be aggregated using Spark SQL and matplotlib will be used to display graphs of the data\n",
    "The project follows the follow steps:\n",
    "* Step 1: Scope the Project and Gather Data\n",
    "* Step 2: Explore and Assess the Data\n",
    "* Step 3: Define the Data Model\n",
    "* Step 4: Run ETL to Model the Data\n",
    "* Step 5: Complete Project Write Up"
   ]
  },
  {
   "cell_type": "code",
   "execution_count": 9,
   "metadata": {},
   "outputs": [],
   "source": [
    "import os\n",
    "import gc\n",
    "import logging\n",
    "from datetime import datetime\n",
    "from sys import stdout\n",
    "from pyspark import SparkContext\n",
    "from pyspark.sql import SparkSession\n",
    "from pyspark.sql import functions as f"
   ]
  },
  {
   "cell_type": "code",
   "execution_count": 10,
   "metadata": {},
   "outputs": [],
   "source": [
    "def setting_log(flag_stdout=True, flag_logfile=False):\n",
    "    \"\"\"\n",
    "    Applies log settings and returns a logging object.\n",
    "    :flag_stdout: boolean\n",
    "    :flag_logfile: boolean\n",
    "    \"\"\"\n",
    "    handler_list = list()\n",
    "    LOGGER = logging.getLogger()\n",
    "    [LOGGER.removeHandler(h) for h in LOGGER.handlers]\n",
    "    if flag_logfile:\n",
    "        path_log = './logs/{}_{:%Y%m%d}.log'.format('log', datetime.now())\n",
    "        if not os.path.isdir('./logs'):\n",
    "            os.makedirs('./logs')\n",
    "        handler_list.append(logging.FileHandler(path_log))\n",
    "    if flag_stdout:\n",
    "        handler_list.append(logging.StreamHandler(stdout))\n",
    "    logging.basicConfig(\n",
    "        level=logging.INFO\\\n",
    "        ,format='[%(asctime)s] {%(filename)s:%(lineno)d} %(levelname)s - %(message)s'\\\n",
    "        ,handlers=handler_list)\n",
    "    return LOGGER"
   ]
  },
  {
   "cell_type": "code",
   "execution_count": 11,
   "metadata": {},
   "outputs": [],
   "source": [
    "gc.enable()\n",
    "LOGGER = setting_log()\n",
    "JOB_NAME = 'spark_dend_capstone'"
   ]
  },
  {
   "cell_type": "code",
   "execution_count": 12,
   "metadata": {},
   "outputs": [],
   "source": [
    "spark = SparkSession\\\n",
    "    .builder\\\n",
    "    .appName(JOB_NAME)\\\n",
    "    .enableHiveSupport()\\\n",
    "    .getOrCreate()"
   ]
  },
  {
   "cell_type": "code",
   "execution_count": 13,
   "metadata": {},
   "outputs": [
    {
     "name": "stdout",
     "output_type": "stream",
     "text": [
      "[2019-09-27 22:00:52,938] {<ipython-input-13-4f1dd5897f31>:1} INFO - Set ERROR level JVM logger\n"
     ]
    }
   ],
   "source": [
    "LOGGER.info('Set ERROR level JVM logger')\n",
    "logger_jvm = spark._jvm.org.apache.log4j\n",
    "logger_jvm.LogManager.getLogger(\"org\"). setLevel(logger_jvm.Level.ERROR)\n",
    "logger_jvm.LogManager.getLogger(\"akka\").setLevel(logger_jvm.Level.ERROR)"
   ]
  },
  {
   "cell_type": "markdown",
   "metadata": {},
   "source": [
    "### Step 1: Scope the Project and Gather Data\n",
    "The scope of this project is to create a Spark job that public datasets persisted to disk and, provide clean and reliable data in a dimensional model.\n",
    "\n",
    "#### Describe and Gather Data\n",
    "1. **Crime Data in Brazil:** comes from [Kaggle](https://www.kaggle.com/inquisitivecrow/crime-data-in-brazil). All crime data for 10 years of police work in the biggest city of South America.\n",
    "2. **News of the Brazilian Newspaper:** comes from [Kaggle](https://www.kaggle.com/marlesson/news-of-the-site-folhauol). 167.053 news of the site Folha de São Paulo (Brazilian Newspaper)\n",
    "3. **Current Properati Listing Information:** comes from [Kaggle](https://www.kaggle.com/properati-data/properties). Property attributes of 1.5 million Latin American listings."
   ]
  },
  {
   "cell_type": "code",
   "execution_count": 4,
   "metadata": {},
   "outputs": [],
   "source": [
    "df_crime = spark.read.option('mergeSchema', 'true').option('header', 'true').csv('./data/crime_data_br/*.csv')"
   ]
  },
  {
   "cell_type": "code",
   "execution_count": 5,
   "metadata": {},
   "outputs": [
    {
     "name": "stdout",
     "output_type": "stream",
     "text": [
      "+------+------+------------+--------------------+--------------------+--------------------+----------------------+--------------------+--------------------+----+---+------------------+------------------+-------------+--------------------+--------------------+----------+--------+---------+--------------------+--------------------+-----------------+-------------+--------------------+-----------+-----------+------------+--------------------+--------------------+--------------------+----+----+----+\n",
      "|NUM_BO|ANO_BO|ID_DELEGACIA|   NOME_DEPARTAMENTO|      NOME_SECCIONAL|           DELEGACIA|NOME_DEPARTAMENTO_CIRC| NOME_SECCIONAL_CIRC| NOME_DELEGACIA_CIRC| ANO|MES|DATA_OCORRENCIA_BO|HORA_OCORRENCIA_BO|FLAG_STATUS13|             RUBRICA|       DESDOBRAMENTO|   CONDUTA|LATITUDE|LONGITUDE|              CIDADE|          LOGRADOURO|NUMERO_LOGRADOURO|FLAG_STATUS22|   DESCR_TIPO_PESSOA|CONT_PESSOA|SEXO_PESSOA|IDADE_PESSOA|                 COR|     DESCR_PROFISSAO|DESCR_GRAU_INSTRUCAO|_c30|_c31|_c32|\n",
      "+------+------+------------+--------------------+--------------------+--------------------+----------------------+--------------------+--------------------+----+---+------------------+------------------+-------------+--------------------+--------------------+----------+--------+---------+--------------------+--------------------+-----------------+-------------+--------------------+-----------+-----------+------------+--------------------+--------------------+--------------------+----+----+----+\n",
      "|     1|  2010|       10101|DECAP            ...|DEL.SEC.1º CENTRO...|01º D.P. SE      ...|  DECAP            ...|DEL.SEC.1º CENTRO...|01º D.P. SE      ...|2009| 12|        31/12/2009|             23:10|            C|Homicídio simples...|                NULL|      NULL|    NULL|     NULL|S.PAULO          ...|VD DONA PAULINA  ...|               80|            C|Condutor            |          2|          M|          31|Branca              |POLICIAL MILITAR ...|2 Grau completo  ...|null|null|null|\n",
      "|     1|  2010|       10225|DECAP            ...|DEL.SEC.6º SANTO ...|25º D.P.  PARELHE...|  DECAP            ...|DEL.SEC.6º SANTO ...|101º D.P. JDIM IM...|2009| 12|        31/12/2009|             14:00|            C|    Furto (art. 155)|                NULL|   VEICULO|    NULL|     NULL|S.PAULO          ...|ELVIRA GARRELI WA...|               29|            C|Vítima              |          1|          M|          23|Branca              |MANOBRISTA       ...|2 Grau completo  ...|null|null|null|\n",
      "|     1|  2010|       10241|DECAP            ...|DEL.SEC.3º OESTE ...|37º D.P.  CAMPO L...|  DECAP            ...|DEL.SEC.3º OESTE ...|37º D.P.  CAMPO L...|2009| 12|        31/12/2009|             23:40|            C|Homicídio simples...|                NULL|      NULL|    NULL|     NULL|S.PAULO          ...|R JACOB MEDEIROS ...|                0|            C|Condutor            |          1|          M|          26|Branca              |POLICIAL MILITAR ...|2 Grau completo  ...|null|null|null|\n",
      "|     1|  2010|       10241|DECAP            ...|DEL.SEC.3º OESTE ...|37º D.P.  CAMPO L...|  DECAP            ...|DEL.SEC.3º OESTE ...|37º D.P.  CAMPO L...|2009| 12|        31/12/2009|             23:40|            C|Homicídio simples...|                NULL|      NULL|    NULL|     NULL|S.PAULO          ...|R JACOB MEDEIROS ...|                0|            C|Vítima              |          2|          I|        NULL|Preta               |                NULL|                NULL|null|null|null|\n",
      "|     1|  2010|       10326|DECAP            ...|DEL.SEC.7º ITAQUE...|63º D.P. VILA JAC...|  DECAP            ...|DEL.SEC.7º ITAQUE...|67º D.P. JARDIM R...|2009| 12|        31/12/2009|             22:30|            C|    Roubo (art. 157)|                NULL|   VEICULO|    NULL|     NULL|S.PAULO          ...|R LEONOR DE CASTR...|              120|            C|Indiciado           |          1|          M|          27|Parda               |                NULL|                NULL|null|null|null|\n",
      "|     1|  2010|       10330|DECAP            ...|DEL.SEC.2º SUL   ...|27º D.P.  IBIRAPU...|  DECAP            ...|DEL.SEC.3º OESTE ...|33º D.P.  PIRITUB...|2009| 12|        31/12/2009|             20:00|            C|    Roubo (art. 157)|                NULL|     CARGA|    NULL|     NULL|S.PAULO          ...|VIA ANHANGUERA   ...|                0|            C|Indiciado           |          1|          M|        NULL|                NULL|                NULL|                NULL|null|null|null|\n",
      "|     1|  2010|       10330|DECAP            ...|DEL.SEC.2º SUL   ...|27º D.P.  IBIRAPU...|  DECAP            ...|DEL.SEC.3º OESTE ...|33º D.P.  PIRITUB...|2009| 12|        31/12/2009|             20:00|            C|    Roubo (art. 157)|                NULL|     CARGA|    NULL|     NULL|S.PAULO          ...|VIA ANHANGUERA   ...|                0|            C|Indiciado           |          4|          M|        NULL|                NULL|                NULL|                NULL|null|null|null|\n",
      "|     1|  2010|       10330|DECAP            ...|DEL.SEC.2º SUL   ...|27º D.P.  IBIRAPU...|  DECAP            ...|DEL.SEC.3º OESTE ...|33º D.P.  PIRITUB...|2009| 12|        31/12/2009|             20:00|            C|    Roubo (art. 157)|                NULL|     CARGA|    NULL|     NULL|S.PAULO          ...|VIA ANHANGUERA   ...|                0|            C|Vítima              |          5|          M|          36|Preta               |MOTORISTA        ...|2 Grau incompleto...|null|null|null|\n",
      "|     1|  2010|       10330|DECAP            ...|DEL.SEC.2º SUL   ...|27º D.P.  IBIRAPU...|  DECAP            ...|DEL.SEC.3º OESTE ...|33º D.P.  PIRITUB...|2009| 12|        31/12/2009|             20:00|            C|    Roubo (art. 157)|                NULL|   VEICULO|    NULL|     NULL|S.PAULO          ...|VIA ANHANGUERA   ...|                0|            C|Indiciado           |          2|          M|        NULL|                NULL|                NULL|                NULL|null|null|null|\n",
      "|     1|  2010|       10346|DECAP            ...|DEL.SEC.3º OESTE ...|46º D.P.  PERUS  ...|  DECAP            ...|DEL.SEC.3º OESTE ...|46º D.P.  PERUS  ...|2009| 12|        31/12/2009|             17:21|            C|Lesão corporal cu...|                NULL|      NULL|    NULL|     NULL|S.PAULO          ...|R FELIX BOGADO   ...|                1|            C|Vítima              |          1|          M|        NULL|Branca              |                NULL|                NULL|null|null|null|\n",
      "|     1|  2010|       10361|DECAP            ...|DEL.SEC.8º SAO MA...|70º D.P. VILA EMA...|  DECAP            ...|DEL.SEC.8º SAO MA...|70º D.P. VILA EMA...|2009| 12|        31/12/2009|             23:30|            C|    Roubo (art. 157)|caput. Subtrair c...|   VEICULO|    NULL|     NULL|S.PAULO          ...|R BENEDITO PEDROS...|              398|            C|Indiciado           |          3|          M|        NULL|Branca              |                NULL|                NULL|null|null|null|\n",
      "|     1|  2010|       10361|DECAP            ...|DEL.SEC.8º SAO MA...|70º D.P. VILA EMA...|  DECAP            ...|DEL.SEC.8º SAO MA...|70º D.P. VILA EMA...|2009| 12|        31/12/2009|             23:30|            C|    Roubo (art. 157)|caput. Subtrair c...|   VEICULO|    NULL|     NULL|S.PAULO          ...|R BENEDITO PEDROS...|              398|            C|Vítima              |          1|          M|          43|Branca              |COMERCIANTE      ...|1 Grau completo  ...|null|null|null|\n",
      "|     1|  2010|       10363|DECAP            ...|DEL.SEC.2º SUL   ...|83º D.P. PARQUE B...|  DECAP            ...|DEL.SEC.1º CENTRO...|04º D.P. CONSOLAÇ...|2009| 12|        31/12/2009|             23:30|            C|Furto qualificado...|                NULL|TRANSEUNTE|    NULL|     NULL|S.PAULO          ...|AV PAULISTA      ...|              300|            C|Vítima              |          1|          M|          19|Branca              |CONTADOR(A)      ...|2 Grau completo  ...|null|null|null|\n",
      "|     1|  2010|       10211|DECAP            ...|DEL.SEC.6º SANTO ...|11º D.P. SANTO AM...|  DECAP            ...|DEL.SEC.6º SANTO ...|11º D.P. SANTO AM...|2009| 12|        31/12/2009|             21:15|            C|    Roubo (art. 157)|                NULL|TRANSEUNTE|    NULL|     NULL|S.PAULO          ...|R JOSE GUERRA    ...|              115|            C|Indiciado           |          2|          M|        NULL|Outros              |                NULL|                NULL|null|null|null|\n",
      "|     1|  2010|       10310|DECAP            ...|DEL.SEC.5º LESTE ...|56º D.P.  VILA AL...|  DECAP            ...|DEL.SEC.5º LESTE ...|42º D.P.  PARQUE ...|2009| 12|        31/12/2009|             21:31|            C|Lesão corporal (a...|                NULL|      NULL|    NULL|     NULL|S.PAULO          ...|R PRIMEIRA CRUZ  ...|               89|            C|Testemunha          |          3|          M|          34|Preta               |POLICIAL MILITAR ...|2 Grau completo  ...|null|null|null|\n",
      "|     1|  2010|       10330|DECAP            ...|DEL.SEC.2º SUL   ...|27º D.P.  IBIRAPU...|  DECAP            ...|DEL.SEC.3º OESTE ...|33º D.P.  PIRITUB...|2009| 12|        31/12/2009|             20:00|            C|    Roubo (art. 157)|                NULL|     CARGA|    NULL|     NULL|S.PAULO          ...|VIA ANHANGUERA   ...|                0|            C|Indiciado           |          2|          M|        NULL|                NULL|                NULL|                NULL|null|null|null|\n",
      "|     1|  2010|       10336|DECAP            ...|DEL.SEC.4º NORTE ...|73º D.P. JACANA  ...|  DECAP            ...|DEL.SEC.4º NORTE ...|73º D.P. JACANA  ...|2009| 12|        31/12/2009|             21:45|            C|    Roubo (art. 157)|                NULL|   VEICULO|    NULL|     NULL|S.PAULO          ...|AV JACANA        ...|                0|            C|Vítima              |          1|          M|          27|Branca              |DIRETOR(A)       ...|Superior completo...|null|null|null|\n",
      "|     1|  2010|       10342|DECAP            ...|DEL.SEC.1º CENTRO...|78º D.P. JARDINS ...|  DECAP            ...|DEL.SEC.1º CENTRO...|78º D.P. JARDINS ...|2009| 12|        31/12/2009|             23:00|            C|    Furto (art. 155)|                NULL|TRANSEUNTE|    NULL|     NULL|S.PAULO          ...|AV PAULISTA      ...|             NULL|            C|Vítima              |          2|          F|          18|Branca              |PRENDAS DOMESTICA...|2 Grau completo  ...|null|null|null|\n",
      "|     1|  2010|       10351|DECAP            ...|DEL.SEC.3º OESTE ...|51º D.P.  RIO PEQ...|  DECAP            ...|DEL.SEC.3º OESTE ...|51º D.P.  RIO PEQ...|2009| 12|        31/12/2009|             19:55|            C|    Roubo (art. 157)|                NULL|   VEICULO|    NULL|     NULL|S.PAULO          ...|R OCTAVIO DE MORA...|              387|            C|Adolescente infrator|          8|          M|          17|Parda               |ESTUDANTE        ...|1 Grau incompleto...|null|null|null|\n",
      "|     1|  2010|       10351|DECAP            ...|DEL.SEC.3º OESTE ...|51º D.P.  RIO PEQ...|  DECAP            ...|DEL.SEC.3º OESTE ...|51º D.P.  RIO PEQ...|2009| 12|        31/12/2009|             19:55|            C|    Roubo (art. 157)|                NULL|   VEICULO|    NULL|     NULL|S.PAULO          ...|R OCTAVIO DE MORA...|              387|            C|Vítima              |          1|          M|          57|Branca              |EMPRESARIO(A)    ...|Superior completo...|null|null|null|\n",
      "+------+------+------------+--------------------+--------------------+--------------------+----------------------+--------------------+--------------------+----+---+------------------+------------------+-------------+--------------------+--------------------+----------+--------+---------+--------------------+--------------------+-----------------+-------------+--------------------+-----------+-----------+------------+--------------------+--------------------+--------------------+----+----+----+\n",
      "only showing top 20 rows\n",
      "\n"
     ]
    }
   ],
   "source": [
    "df_crime.show()"
   ]
  },
  {
   "cell_type": "code",
   "execution_count": 8,
   "metadata": {},
   "outputs": [
    {
     "name": "stdout",
     "output_type": "stream",
     "text": [
      "+--------------------+----------------+-------------+\n",
      "|                _c30|            _c31|         _c32|\n",
      "+--------------------+----------------+-------------+\n",
      "|1 Grau completo  ...|            null|         null|\n",
      "|                    |            NULL|         NULL|\n",
      "|2 Grau completo  ...|            null|         null|\n",
      "|Preta               |            null|         null|\n",
      "|                null|                |         NULL|\n",
      "|                null|            null|         null|\n",
      "|                    |            NULL|         NULL|\n",
      "|Outros              |            null|         null|\n",
      "|Branca              |            null|         null|\n",
      "|                    |            null|         null|\n",
      "|                    |            NULL|         NULL|\n",
      "|                null|            null|             |\n",
      "|1 Grau incompleto...|            null|         null|\n",
      "|                    |            NULL|         NULL|\n",
      "|                NULL|            null|         null|\n",
      "|Parda               |            null|         null|\n",
      "+--------------------+----------------+-------------+\n",
      "\n"
     ]
    }
   ],
   "source": [
    "df_crime.select('_c30', '_c31', '_c32').distinct().show()"
   ]
  },
  {
   "cell_type": "code",
   "execution_count": 14,
   "metadata": {},
   "outputs": [
    {
     "name": "stdout",
     "output_type": "stream",
     "text": [
      "root\n",
      " |-- NUM_BO: string (nullable = true)\n",
      " |-- ANO_BO: string (nullable = true)\n",
      " |-- ID_DELEGACIA: string (nullable = true)\n",
      " |-- NOME_DEPARTAMENTO: string (nullable = true)\n",
      " |-- NOME_SECCIONAL: string (nullable = true)\n",
      " |-- DELEGACIA: string (nullable = true)\n",
      " |-- NOME_DEPARTAMENTO_CIRC: string (nullable = true)\n",
      " |-- NOME_SECCIONAL_CIRC: string (nullable = true)\n",
      " |-- NOME_DELEGACIA_CIRC: string (nullable = true)\n",
      " |-- ANO: string (nullable = true)\n",
      " |-- MES: string (nullable = true)\n",
      " |-- DATA_OCORRENCIA_BO: string (nullable = true)\n",
      " |-- HORA_OCORRENCIA_BO: string (nullable = true)\n",
      " |-- FLAG_STATUS13: string (nullable = true)\n",
      " |-- RUBRICA: string (nullable = true)\n",
      " |-- DESDOBRAMENTO: string (nullable = true)\n",
      " |-- CONDUTA: string (nullable = true)\n",
      " |-- LATITUDE: string (nullable = true)\n",
      " |-- LONGITUDE: string (nullable = true)\n",
      " |-- CIDADE: string (nullable = true)\n",
      " |-- LOGRADOURO: string (nullable = true)\n",
      " |-- NUMERO_LOGRADOURO: string (nullable = true)\n",
      " |-- FLAG_STATUS22: string (nullable = true)\n",
      " |-- DESCR_TIPO_PESSOA: string (nullable = true)\n",
      " |-- CONT_PESSOA: string (nullable = true)\n",
      " |-- SEXO_PESSOA: string (nullable = true)\n",
      " |-- IDADE_PESSOA: string (nullable = true)\n",
      " |-- COR: string (nullable = true)\n",
      " |-- DESCR_PROFISSAO: string (nullable = true)\n",
      " |-- DESCR_GRAU_INSTRUCAO: string (nullable = true)\n",
      " |-- _c30: string (nullable = true)\n",
      " |-- _c31: string (nullable = true)\n",
      " |-- _c32: string (nullable = true)\n",
      "\n"
     ]
    }
   ],
   "source": [
    "df_crime.printSchema()"
   ]
  }
 ],
 "metadata": {
  "kernelspec": {
   "display_name": "Python 3",
   "language": "python",
   "name": "python3"
  },
  "language_info": {
   "codemirror_mode": {
    "name": "ipython",
    "version": 3
   },
   "file_extension": ".py",
   "mimetype": "text/x-python",
   "name": "python",
   "nbconvert_exporter": "python",
   "pygments_lexer": "ipython3",
   "version": "3.7.3"
  }
 },
 "nbformat": 4,
 "nbformat_minor": 2
}
