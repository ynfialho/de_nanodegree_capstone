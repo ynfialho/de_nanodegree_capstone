{
 "cells": [
  {
   "cell_type": "markdown",
   "metadata": {},
   "source": [
    "## Data Engineering Capstone Project"
   ]
  },
  {
   "cell_type": "code",
   "execution_count": 4,
   "metadata": {},
   "outputs": [],
   "source": [
    "import os\n",
    "import logging\n",
    "from datetime import datetime\n",
    "from sys import stdout\n",
    "from pyspark import SparkContext\n",
    "from pyspark.sql import SparkSession\n",
    "from pyspark.sql import functions as f"
   ]
  },
  {
   "cell_type": "code",
   "execution_count": 12,
   "metadata": {},
   "outputs": [],
   "source": [
    "def setting_log(flag_stdout=True, flag_logfile=False):\n",
    "    \"\"\"\n",
    "    Applies log settings and returns a logging object.\n",
    "    :flag_stdout: boolean\n",
    "    :flag_logfile: boolean\n",
    "    \"\"\"\n",
    "    handler_list = list()\n",
    "    LOGGER = logging.getLogger()\n",
    "    [LOGGER.removeHandler(h) for h in LOGGER.handlers]\n",
    "    if flag_logfile:\n",
    "        path_log = './logs/{}_{:%Y%m%d}.log'.format('log', datetime.now())\n",
    "        if not os.path.isdir('./logs'):\n",
    "            os.makedirs('./logs')\n",
    "        handler_list.append(logging.FileHandler(path_log))\n",
    "    if flag_stdout:\n",
    "        handler_list.append(logging.StreamHandler(stdout))\n",
    "    logging.basicConfig(\n",
    "        level=logging.INFO\\\n",
    "        ,format='[%(asctime)s] {%(filename)s:%(lineno)d} %(levelname)s - %(message)s'\\\n",
    "        ,handlers=handler_list)\n",
    "    return LOGGER"
   ]
  },
  {
   "cell_type": "code",
   "execution_count": 13,
   "metadata": {},
   "outputs": [],
   "source": [
    "LOGGER = setting_log()\n",
    "JOB_NAME = 'spark_dend_capstone'"
   ]
  },
  {
   "cell_type": "code",
   "execution_count": 14,
   "metadata": {},
   "outputs": [],
   "source": [
    "spark = SparkSession\\\n",
    "    .builder\\\n",
    "    .appName(JOB_NAME)\\\n",
    "    .enableHiveSupport()\\\n",
    "    .getOrCreate()"
   ]
  },
  {
   "cell_type": "code",
   "execution_count": 15,
   "metadata": {},
   "outputs": [
    {
     "name": "stdout",
     "output_type": "stream",
     "text": [
      "[2019-09-24 23:16:45,989] {<ipython-input-15-4f1dd5897f31>:1} INFO - Set ERROR level JVM logger\n"
     ]
    }
   ],
   "source": [
    "LOGGER.info('Set ERROR level JVM logger')\n",
    "logger_jvm = spark._jvm.org.apache.log4j\n",
    "logger_jvm.LogManager.getLogger(\"org\"). setLevel(logger_jvm.Level.ERROR)\n",
    "logger_jvm.LogManager.getLogger(\"akka\").setLevel(logger_jvm.Level.ERROR)"
   ]
  },
  {
   "cell_type": "code",
   "execution_count": null,
   "metadata": {},
   "outputs": [],
   "source": [
    "df_crime"
   ]
  }
 ],
 "metadata": {
  "kernelspec": {
   "display_name": "Python 3",
   "language": "python",
   "name": "python3"
  },
  "language_info": {
   "codemirror_mode": {
    "name": "ipython",
    "version": 3
   },
   "file_extension": ".py",
   "mimetype": "text/x-python",
   "name": "python",
   "nbconvert_exporter": "python",
   "pygments_lexer": "ipython3",
   "version": "3.7.3"
  }
 },
 "nbformat": 4,
 "nbformat_minor": 2
}
