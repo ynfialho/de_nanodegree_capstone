{
 "cells": [
  {
   "cell_type": "markdown",
   "metadata": {},
   "source": [
    "## Data Engineering Capstone Project\n",
    "#### Introduction\n",
    "This project will bring together criminal facts of data, news and distinct propriedados information in the same locality, São Paulo / Brazil, so that the result of this project is a clean and reliable basis and can be used for statist modeling and business intelligence.\n",
    "\n",
    "The project follows the follow steps:\n",
    "* Step 1: Scope the Project and Gather Data\n",
    "* Step 2: Explore and Assess the Data\n",
    "* Step 3: Define the Data Model\n",
    "* Step 4: Run ETL to Model the Data\n",
    "* Step 5: Complete Project Write Up"
   ]
  },
  {
   "cell_type": "code",
   "execution_count": 12,
   "metadata": {},
   "outputs": [],
   "source": [
    "import os\n",
    "import gc\n",
    "import logging\n",
    "from datetime import datetime\n",
    "from sys import stdout\n",
    "from pyspark import SparkContext\n",
    "from pyspark.sql import SparkSession\n",
    "from pyspark.sql import functions as f"
   ]
  },
  {
   "cell_type": "code",
   "execution_count": 111,
   "metadata": {},
   "outputs": [],
   "source": [
    "def normalize_columns_name(_df):\n",
    "    \"\"\"\n",
    "    Recive Spark data frame and return data frame with clean column names\n",
    "    \"\"\"\n",
    "    cols = _df.columns\n",
    "    df_result = _df\n",
    "    for c in cols:\n",
    "        df_result = df_result.withColumnRenamed(c, c.lower().replace(' ', '_'))\n",
    "    \n",
    "    return df_result\n",
    "\n",
    "def replace_ncols(_df):\n",
    "    \"\"\"\n",
    "    Recive Spark data frame and return data frame with replaced null string values\n",
    "    \"\"\"\n",
    "    col_types = _df.dtypes\n",
    "    df_result = _df\n",
    "    \n",
    "    for item in col_types:\n",
    "        if item[1] == 'string':\n",
    "            df_result = df_result.withColumn(item[0]\\\n",
    "                                            ,f.when(f.col(item[0]).isin('NULL','NaN', 'NA'), None)\\\n",
    "                                            .otherwise(item[0]))\n",
    "    return df_result\n",
    "    "
   ]
  },
  {
   "cell_type": "code",
   "execution_count": 13,
   "metadata": {},
   "outputs": [],
   "source": [
    "# Enable garbage collector in Py4j\n",
    "gc.enable()\n",
    "JOB_NAME = 'spark_dend_capstone'"
   ]
  },
  {
   "cell_type": "code",
   "execution_count": 14,
   "metadata": {},
   "outputs": [],
   "source": [
    "spark = SparkSession\\\n",
    "    .builder\\\n",
    "    .appName(JOB_NAME)\\\n",
    "    .master(\"local[*]\")\\\n",
    "    .enableHiveSupport()\\\n",
    "    .getOrCreate()"
   ]
  },
  {
   "cell_type": "code",
   "execution_count": 15,
   "metadata": {},
   "outputs": [],
   "source": [
    "# Due to the verbosity of log Spark, just leave related error messages org and akka\n",
    "logger_jvm = spark._jvm.org.apache.log4j\n",
    "logger_jvm.LogManager.getLogger(\"org\"). setLevel(logger_jvm.Level.ERROR)\n",
    "logger_jvm.LogManager.getLogger(\"akka\").setLevel(logger_jvm.Level.ERROR)"
   ]
  },
  {
   "cell_type": "markdown",
   "metadata": {},
   "source": [
    "### Step 1: Scope the Project and Gather Data\n",
    "The scope of this project is to create a Spark task responsible for the data warehouse intake with clean and reliable data in a dimensional model.\n",
    "\n",
    "#### Describe and Gather Data\n",
    "1. **Crime Data in Brazil:** comes from [Kaggle](https://www.kaggle.com/inquisitivecrow/crime-data-in-brazil). All crime data for 10 years of police work in the biggest city of South America.\n",
    "2. **News of the Brazilian Newspaper:** comes from [Kaggle](https://www.kaggle.com/marlesson/news-of-the-site-folhauol). 167.053 news of the site Folha de São Paulo (Brazilian Newspaper)\n",
    "3. **Current Properati Listing Information:** comes from [Kaggle](https://www.kaggle.com/properati-data/properties). Property attributes of 1.5 million Latin American listings."
   ]
  },
  {
   "cell_type": "code",
   "execution_count": 16,
   "metadata": {},
   "outputs": [],
   "source": [
    "READ_PATH_CRIME_DATA = './data/crime_data_br/*.csv'\n",
    "READ_PATH_NEWS = './data/news_folhauol/*.csv'\n",
    "READ_PATH_PROPERTIES = './data/properties_br/*.csv'"
   ]
  },
  {
   "cell_type": "markdown",
   "metadata": {},
   "source": [
    "#### Read dataset Crime data in Brazil and drop tuples duplicates"
   ]
  },
  {
   "cell_type": "code",
   "execution_count": 114,
   "metadata": {},
   "outputs": [],
   "source": [
    "df_crime_crude = spark.read\\\n",
    "    .option('mergeSchema', 'true')\\\n",
    "    .option('header', 'true')\\\n",
    "    .option('inferSchema', 'true')\\\n",
    "    .csv(READ_PATH_CRIME_DATA)\\\n",
    "    .dropDuplicates()\n",
    "\n",
    "df_crime_crude = normalize_columns_name(df_crime_crude)"
   ]
  },
  {
   "cell_type": "code",
   "execution_count": 82,
   "metadata": {},
   "outputs": [
    {
     "data": {
      "text/plain": [
       "17107839"
      ]
     },
     "execution_count": 82,
     "metadata": {},
     "output_type": "execute_result"
    }
   ],
   "source": [
    "df_crime_crude.count()"
   ]
  },
  {
   "cell_type": "markdown",
   "metadata": {},
   "source": [
    "#### Replace strings 'NULL','NaN', 'NA' to null type"
   ]
  },
  {
   "cell_type": "code",
   "execution_count": 112,
   "metadata": {},
   "outputs": [],
   "source": [
    "df_crime = replace_ncols(df_crime_crude)"
   ]
  },
  {
   "cell_type": "markdown",
   "metadata": {},
   "source": [
    "#### The columns are recorded as _col# records of badly formatted strings to our project records affected by these anomalies will be discarded because they represent a very low percentage."
   ]
  },
  {
   "cell_type": "code",
   "execution_count": null,
   "metadata": {},
   "outputs": [],
   "source": [
    "df_crime = df_crime.where('(_c30 is null and _c31 is null and _c32 is null)').drop('_c30', '_c31', '_c32')"
   ]
  },
  {
   "cell_type": "markdown",
   "metadata": {},
   "source": [
    "#### Normalizing the sexo_pessoa stands for F (female)"
   ]
  },
  {
   "cell_type": "code",
   "execution_count": 126,
   "metadata": {},
   "outputs": [],
   "source": [
    "df_crime = df_crime.withColumn('sexo_pessoa', f.when(f.col('sexo_pessoa') == 'I', 'F').otherwise(f.col('sexo_pessoa')))"
   ]
  },
  {
   "cell_type": "markdown",
   "metadata": {},
   "source": [
    "#### Validation if columns have only numeric data, otherwise values will be null"
   ]
  },
  {
   "cell_type": "code",
   "execution_count": 80,
   "metadata": {},
   "outputs": [
    {
     "name": "stdout",
     "output_type": "stream",
     "text": [
      "+--------+---------+\n",
      "|latitude|longitude|\n",
      "+--------+---------+\n",
      "+--------+---------+\n",
      "\n"
     ]
    }
   ],
   "source": [
    "df_crime.select('latitude', 'longitude').where(\"latitude rlike '[a-z]'\").distinct().show(10, False)"
   ]
  },
  {
   "cell_type": "code",
   "execution_count": 119,
   "metadata": {},
   "outputs": [
    {
     "name": "stdout",
     "output_type": "stream",
     "text": [
      "+-------------+-------------+\n",
      "|flag_status13|flag_status22|\n",
      "+-------------+-------------+\n",
      "|        18:00|          972|\n",
      "|        21:33|         1600|\n",
      "|        21:20|            0|\n",
      "|        22:00|          900|\n",
      "|         NULL|          220|\n",
      "|        17:35|           50|\n",
      "|        21:40|          154|\n",
      "|        11:10|          231|\n",
      "|         NULL|           74|\n",
      "|        21:40|         NULL|\n",
      "|        20:05|          200|\n",
      "|        04:00|          483|\n",
      "|         NULL|         2040|\n",
      "|         NULL|         2913|\n",
      "|         NULL|        99999|\n",
      "|        21:05|          226|\n",
      "|        03:40|          365|\n",
      "|         NULL|          682|\n",
      "|        22:30|         2927|\n",
      "|        22:30|         4000|\n",
      "+-------------+-------------+\n",
      "only showing top 20 rows\n",
      "\n"
     ]
    }
   ],
   "source": [
    "df_crime.select('flag_status13', 'flag_status22').show()"
   ]
  },
  {
   "cell_type": "markdown",
   "metadata": {},
   "source": [
    "#### Read dataset News of the Brazilian Newspaper"
   ]
  },
  {
   "cell_type": "code",
   "execution_count": 22,
   "metadata": {},
   "outputs": [],
   "source": [
    "df_news_crude = spark.read\\\n",
    "    .option('mergeSchema', 'true')\\\n",
    "    .option('header', 'true')\\\n",
    "    .option('quote', '\"')\\\n",
    "    .option('escape', '\"')\\\n",
    "    .csv(READ_PATH_NEWS)\n",
    "df_news_crude = normalize_columns_name(df_news_crude)"
   ]
  },
  {
   "cell_type": "markdown",
   "metadata": {},
   "source": [
    "Total records with malformed delimiter is almost 4% to this project this percentage is acceptable."
   ]
  },
  {
   "cell_type": "code",
   "execution_count": 23,
   "metadata": {},
   "outputs": [],
   "source": [
    "df_news = df_news_crude.where('date is not null')"
   ]
  },
  {
   "cell_type": "code",
   "execution_count": 24,
   "metadata": {},
   "outputs": [],
   "source": [
    "df_news = df_news.where('link is not null')"
   ]
  },
  {
   "cell_type": "markdown",
   "metadata": {},
   "source": [
    "#### Read dataset Properties"
   ]
  },
  {
   "cell_type": "code",
   "execution_count": 4,
   "metadata": {},
   "outputs": [],
   "source": [
    "df_properties_crude = spark.read\\\n",
    "    .option('mergeSchema', 'true')\\\n",
    "    .option('header', 'true')\\\n",
    "    .option('quote', '\"')\\\n",
    "    .option('escape', '\"')\\\n",
    "    .csv(READ_PATH_PROPERTIES)\n",
    "df_properties_crude = normalize_columns_name(df_properties_crude)"
   ]
  },
  {
   "cell_type": "code",
   "execution_count": 5,
   "metadata": {},
   "outputs": [],
   "source": [
    "df_properties = df_properties_crude.where(\"lat-lon is not null\")"
   ]
  },
  {
   "cell_type": "code",
   "execution_count": 11,
   "metadata": {},
   "outputs": [
    {
     "data": {
      "text/html": [
       "<div>\n",
       "<style scoped>\n",
       "    .dataframe tbody tr th:only-of-type {\n",
       "        vertical-align: middle;\n",
       "    }\n",
       "\n",
       "    .dataframe tbody tr th {\n",
       "        vertical-align: top;\n",
       "    }\n",
       "\n",
       "    .dataframe thead th {\n",
       "        text-align: right;\n",
       "    }\n",
       "</style>\n",
       "<table border=\"1\" class=\"dataframe\">\n",
       "  <thead>\n",
       "    <tr style=\"text-align: right;\">\n",
       "      <th></th>\n",
       "      <th>price_usd_per_m2</th>\n",
       "      <th>price_per_m2</th>\n",
       "    </tr>\n",
       "  </thead>\n",
       "  <tbody>\n",
       "    <tr>\n",
       "      <th>0</th>\n",
       "      <td>2877.2106944444445</td>\n",
       "      <td>9444.444444444445</td>\n",
       "    </tr>\n",
       "    <tr>\n",
       "      <th>1</th>\n",
       "      <td>3595.199440993789</td>\n",
       "      <td>11801.242236024846</td>\n",
       "    </tr>\n",
       "    <tr>\n",
       "      <th>2</th>\n",
       "      <td>3026.4511111111115</td>\n",
       "      <td>10000.0</td>\n",
       "    </tr>\n",
       "    <tr>\n",
       "      <th>3</th>\n",
       "      <td>2044.1819298245614</td>\n",
       "      <td>6754.3859649122805</td>\n",
       "    </tr>\n",
       "    <tr>\n",
       "      <th>4</th>\n",
       "      <td>1089.52242</td>\n",
       "      <td>3600.0</td>\n",
       "    </tr>\n",
       "    <tr>\n",
       "      <th>5</th>\n",
       "      <td>590.5269512195122</td>\n",
       "      <td>1951.219512195122</td>\n",
       "    </tr>\n",
       "    <tr>\n",
       "      <th>6</th>\n",
       "      <td>590.5269512195122</td>\n",
       "      <td>1951.219512195122</td>\n",
       "    </tr>\n",
       "    <tr>\n",
       "      <th>7</th>\n",
       "      <td>1101.8389671361504</td>\n",
       "      <td>3615.023474178404</td>\n",
       "    </tr>\n",
       "    <tr>\n",
       "      <th>8</th>\n",
       "      <td>4315.673132743363</td>\n",
       "      <td>14159.29203539823</td>\n",
       "    </tr>\n",
       "    <tr>\n",
       "      <th>9</th>\n",
       "      <td>2133.5609</td>\n",
       "      <td>7000.0</td>\n",
       "    </tr>\n",
       "  </tbody>\n",
       "</table>\n",
       "</div>"
      ],
      "text/plain": [
       "     price_usd_per_m2        price_per_m2\n",
       "0  2877.2106944444445   9444.444444444445\n",
       "1   3595.199440993789  11801.242236024846\n",
       "2  3026.4511111111115             10000.0\n",
       "3  2044.1819298245614  6754.3859649122805\n",
       "4          1089.52242              3600.0\n",
       "5   590.5269512195122   1951.219512195122\n",
       "6   590.5269512195122   1951.219512195122\n",
       "7  1101.8389671361504   3615.023474178404\n",
       "8   4315.673132743363   14159.29203539823\n",
       "9           2133.5609              7000.0"
      ]
     },
     "execution_count": 11,
     "metadata": {},
     "output_type": "execute_result"
    }
   ],
   "source": [
    "df_properties.select('price_usd_per_m2','price_per_m2').limit(10).toPandas()"
   ]
  },
  {
   "cell_type": "code",
   "execution_count": 25,
   "metadata": {},
   "outputs": [
    {
     "data": {
      "text/html": [
       "<div>\n",
       "<style scoped>\n",
       "    .dataframe tbody tr th:only-of-type {\n",
       "        vertical-align: middle;\n",
       "    }\n",
       "\n",
       "    .dataframe tbody tr th {\n",
       "        vertical-align: top;\n",
       "    }\n",
       "\n",
       "    .dataframe thead th {\n",
       "        text-align: right;\n",
       "    }\n",
       "</style>\n",
       "<table border=\"1\" class=\"dataframe\">\n",
       "  <thead>\n",
       "    <tr style=\"text-align: right;\">\n",
       "      <th></th>\n",
       "      <th>NUM_BO</th>\n",
       "      <th>ANO_BO</th>\n",
       "      <th>ID_DELEGACIA</th>\n",
       "      <th>NOME_DEPARTAMENTO</th>\n",
       "      <th>NOME_SECCIONAL</th>\n",
       "      <th>DELEGACIA</th>\n",
       "      <th>NOME_DEPARTAMENTO_CIRC</th>\n",
       "      <th>NOME_SECCIONAL_CIRC</th>\n",
       "      <th>NOME_DELEGACIA_CIRC</th>\n",
       "      <th>ANO</th>\n",
       "      <th>...</th>\n",
       "      <th>LOGRADOURO</th>\n",
       "      <th>NUMERO_LOGRADOURO</th>\n",
       "      <th>FLAG_STATUS22</th>\n",
       "      <th>DESCR_TIPO_PESSOA</th>\n",
       "      <th>CONT_PESSOA</th>\n",
       "      <th>SEXO_PESSOA</th>\n",
       "      <th>IDADE_PESSOA</th>\n",
       "      <th>COR</th>\n",
       "      <th>DESCR_PROFISSAO</th>\n",
       "      <th>DESCR_GRAU_INSTRUCAO</th>\n",
       "    </tr>\n",
       "  </thead>\n",
       "  <tbody>\n",
       "    <tr>\n",
       "      <th>0</th>\n",
       "      <td>4</td>\n",
       "      <td>2013</td>\n",
       "      <td>900821</td>\n",
       "      <td>DPPC- DEP.POL.PROT A CIDADANIA</td>\n",
       "      <td>DPPC-DEP.POL.PROT.A CIDADANIA</td>\n",
       "      <td>DIISP - 01ª DEL.POL.</td>\n",
       "      <td>DECAP</td>\n",
       "      <td>DEL.SEC.1º CENTRO</td>\n",
       "      <td>03º D.P. CAMPOS ELISEOS</td>\n",
       "      <td>2009</td>\n",
       "      <td>...</td>\n",
       "      <td>R VINTE E QUATRO DE MAIO</td>\n",
       "      <td>35</td>\n",
       "      <td>C</td>\n",
       "      <td>Declarante</td>\n",
       "      <td>1</td>\n",
       "      <td>F</td>\n",
       "      <td>43</td>\n",
       "      <td>NULL</td>\n",
       "      <td>VENDEDOR(A)</td>\n",
       "      <td>2 Grau completo</td>\n",
       "    </tr>\n",
       "    <tr>\n",
       "      <th>1</th>\n",
       "      <td>23</td>\n",
       "      <td>2014</td>\n",
       "      <td>30613</td>\n",
       "      <td>DEMACRO</td>\n",
       "      <td>DEL.SEC.CARAPICUIBA</td>\n",
       "      <td>DEL.DEF.MUL. BARUERI</td>\n",
       "      <td>DEMACRO</td>\n",
       "      <td>DEL.SEC.CARAPICUIBA</td>\n",
       "      <td>01º D.P. BARUERI</td>\n",
       "      <td>2009</td>\n",
       "      <td>...</td>\n",
       "      <td>EST DAS ROSAS</td>\n",
       "      <td>0</td>\n",
       "      <td>C</td>\n",
       "      <td>Autor</td>\n",
       "      <td>3</td>\n",
       "      <td>M</td>\n",
       "      <td>49</td>\n",
       "      <td>Parda</td>\n",
       "      <td>EMPRESARIO COMERCIAL</td>\n",
       "      <td>NULL</td>\n",
       "    </tr>\n",
       "  </tbody>\n",
       "</table>\n",
       "<p>2 rows × 30 columns</p>\n",
       "</div>"
      ],
      "text/plain": [
       "  NUM_BO ANO_BO ID_DELEGACIA                         NOME_DEPARTAMENTO  \\\n",
       "0      4   2013       900821  DPPC- DEP.POL.PROT A CIDADANIA             \n",
       "1     23   2014        30613  DEMACRO                                    \n",
       "\n",
       "                             NOME_SECCIONAL                       DELEGACIA  \\\n",
       "0  DPPC-DEP.POL.PROT.A CIDADANIA             DIISP - 01ª DEL.POL.             \n",
       "1  DEL.SEC.CARAPICUIBA                       DEL.DEF.MUL. BARUERI             \n",
       "\n",
       "                     NOME_DEPARTAMENTO_CIRC  \\\n",
       "0  DECAP                                      \n",
       "1  DEMACRO                                    \n",
       "\n",
       "                        NOME_SECCIONAL_CIRC             NOME_DELEGACIA_CIRC  \\\n",
       "0  DEL.SEC.1º CENTRO                         03º D.P. CAMPOS ELISEOS          \n",
       "1  DEL.SEC.CARAPICUIBA                       01º D.P. BARUERI                 \n",
       "\n",
       "    ANO  ...                                LOGRADOURO NUMERO_LOGRADOURO  \\\n",
       "0  2009  ...  R VINTE E QUATRO DE MAIO                                35   \n",
       "1  2009  ...  EST DAS ROSAS                                            0   \n",
       "\n",
       "  FLAG_STATUS22     DESCR_TIPO_PESSOA CONT_PESSOA SEXO_PESSOA IDADE_PESSOA  \\\n",
       "0             C  Declarante                     1           F           43   \n",
       "1             C  Autor                          3           M           49   \n",
       "\n",
       "                    COR                 DESCR_PROFISSAO  \\\n",
       "0                  NULL  VENDEDOR(A)                      \n",
       "1  Parda                 EMPRESARIO COMERCIAL             \n",
       "\n",
       "                       DESCR_GRAU_INSTRUCAO  \n",
       "0  2 Grau completo                           \n",
       "1                                      NULL  \n",
       "\n",
       "[2 rows x 30 columns]"
      ]
     },
     "execution_count": 25,
     "metadata": {},
     "output_type": "execute_result"
    }
   ],
   "source": [
    "df_crime.limit(2).toPandas()"
   ]
  }
 ],
 "metadata": {
  "kernelspec": {
   "display_name": "Python 3",
   "language": "python",
   "name": "python3"
  },
  "language_info": {
   "codemirror_mode": {
    "name": "ipython",
    "version": 3
   },
   "file_extension": ".py",
   "mimetype": "text/x-python",
   "name": "python",
   "nbconvert_exporter": "python",
   "pygments_lexer": "ipython3",
   "version": "3.7.3"
  }
 },
 "nbformat": 4,
 "nbformat_minor": 2
}
