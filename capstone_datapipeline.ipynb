{
 "cells": [
  {
   "cell_type": "markdown",
   "metadata": {},
   "source": [
    "## Data Engineering Capstone Project\n",
    "#### Project Summary\n",
    "The data sources will be aggregated using Spark SQL and matplotlib will be used to display graphs of the data\n",
    "The project follows the follow steps:\n",
    "* Step 1: Scope the Project and Gather Data\n",
    "* Step 2: Explore and Assess the Data\n",
    "* Step 3: Define the Data Model\n",
    "* Step 4: Run ETL to Model the Data\n",
    "* Step 5: Complete Project Write Up"
   ]
  },
  {
   "cell_type": "code",
   "execution_count": 1,
   "metadata": {},
   "outputs": [],
   "source": [
    "import os\n",
    "import gc\n",
    "import logging\n",
    "from datetime import datetime\n",
    "from sys import stdout\n",
    "from pyspark import SparkContext\n",
    "from pyspark.sql import SparkSession\n",
    "from pyspark.sql import functions as f"
   ]
  },
  {
   "cell_type": "code",
   "execution_count": 2,
   "metadata": {},
   "outputs": [],
   "source": [
    "def setting_log(flag_stdout=True, flag_logfile=False):\n",
    "    \"\"\"\n",
    "    Applies log settings and returns a logging object.\n",
    "    :flag_stdout: boolean\n",
    "    :flag_logfile: boolean\n",
    "    \"\"\"\n",
    "    handler_list = list()\n",
    "    LOGGER = logging.getLogger()\n",
    "    [LOGGER.removeHandler(h) for h in LOGGER.handlers]\n",
    "    if flag_logfile:\n",
    "        path_log = './logs/{}_{:%Y%m%d}.log'.format('log', datetime.now())\n",
    "        if not os.path.isdir('./logs'):\n",
    "            os.makedirs('./logs')\n",
    "        handler_list.append(logging.FileHandler(path_log))\n",
    "    if flag_stdout:\n",
    "        handler_list.append(logging.StreamHandler(stdout))\n",
    "    logging.basicConfig(\n",
    "        level=logging.INFO\\\n",
    "        ,format='[%(asctime)s] {%(filename)s:%(lineno)d} %(levelname)s - %(message)s'\\\n",
    "        ,handlers=handler_list)\n",
    "    return LOGGER"
   ]
  },
  {
   "cell_type": "code",
   "execution_count": 3,
   "metadata": {},
   "outputs": [],
   "source": [
    "gc.enable()\n",
    "LOGGER = setting_log()\n",
    "JOB_NAME = 'spark_dend_capstone'"
   ]
  },
  {
   "cell_type": "code",
   "execution_count": 7,
   "metadata": {},
   "outputs": [],
   "source": [
    "spark = SparkSession\\\n",
    "    .builder\\\n",
    "    .appName(JOB_NAME)\\\n",
    "    .master(\"local[*]\")\\\n",
    "    .enableHiveSupport()\\\n",
    "    .getOrCreate()"
   ]
  },
  {
   "cell_type": "code",
   "execution_count": 8,
   "metadata": {},
   "outputs": [
    {
     "name": "stdout",
     "output_type": "stream",
     "text": [
      "[2019-09-29 21:44:13,197] {<ipython-input-8-4f1dd5897f31>:1} INFO - Set ERROR level JVM logger\n"
     ]
    }
   ],
   "source": [
    "LOGGER.info('Set ERROR level JVM logger')\n",
    "logger_jvm = spark._jvm.org.apache.log4j\n",
    "logger_jvm.LogManager.getLogger(\"org\"). setLevel(logger_jvm.Level.ERROR)\n",
    "logger_jvm.LogManager.getLogger(\"akka\").setLevel(logger_jvm.Level.ERROR)"
   ]
  },
  {
   "cell_type": "markdown",
   "metadata": {},
   "source": [
    "### Step 1: Scope the Project and Gather Data\n",
    "The scope of this project is to create a Spark job that public datasets persisted to disk and, provide clean and reliable data in a dimensional model.\n",
    "\n",
    "#### Describe and Gather Data\n",
    "1. **Crime Data in Brazil:** comes from [Kaggle](https://www.kaggle.com/inquisitivecrow/crime-data-in-brazil). All crime data for 10 years of police work in the biggest city of South America.\n",
    "2. **News of the Brazilian Newspaper:** comes from [Kaggle](https://www.kaggle.com/marlesson/news-of-the-site-folhauol). 167.053 news of the site Folha de São Paulo (Brazilian Newspaper)\n",
    "3. **Current Properati Listing Information:** comes from [Kaggle](https://www.kaggle.com/properati-data/properties). Property attributes of 1.5 million Latin American listings."
   ]
  },
  {
   "cell_type": "markdown",
   "metadata": {},
   "source": [
    "#### Read dataset Crime data in Brazil"
   ]
  },
  {
   "cell_type": "code",
   "execution_count": 70,
   "metadata": {},
   "outputs": [],
   "source": [
    "READ_PATH_CRIME_DATA = './data/crime_data_br/*.csv'"
   ]
  },
  {
   "cell_type": "code",
   "execution_count": 71,
   "metadata": {},
   "outputs": [],
   "source": [
    "df_crime_crude = spark.read.option('mergeSchema', 'true').option('header', 'true').csv(READ_PATH_CRIME_DATA)"
   ]
  },
  {
   "cell_type": "markdown",
   "metadata": {},
   "source": [
    "The columns are recorded as _col# records of badly formatted strings to our project records affected by these anomalies will be discarded because they represent a very low percentage."
   ]
  },
  {
   "cell_type": "code",
   "execution_count": 72,
   "metadata": {},
   "outputs": [],
   "source": [
    "df_crime = df_crime_crude.where('(_c30 is null and _c31 is null and _c32 is null)').drop('_c30', '_c31', '_c32')"
   ]
  },
  {
   "cell_type": "code",
   "execution_count": 82,
   "metadata": {},
   "outputs": [
    {
     "data": {
      "text/plain": [
       "578285"
      ]
     },
     "execution_count": 82,
     "metadata": {},
     "output_type": "execute_result"
    }
   ],
   "source": [
    "df_crime.where(\"SEXO_PESSOA = 'I'\").count()"
   ]
  },
  {
   "cell_type": "code",
   "execution_count": 83,
   "metadata": {},
   "outputs": [
    {
     "data": {
      "text/plain": [
       "9158074"
      ]
     },
     "execution_count": 83,
     "metadata": {},
     "output_type": "execute_result"
    }
   ],
   "source": [
    "df_crime.where(\"SEXO_PESSOA = 'M'\").count()"
   ]
  }
 ],
 "metadata": {
  "kernelspec": {
   "display_name": "Python 3",
   "language": "python",
   "name": "python3"
  },
  "language_info": {
   "codemirror_mode": {
    "name": "ipython",
    "version": 3
   },
   "file_extension": ".py",
   "mimetype": "text/x-python",
   "name": "python",
   "nbconvert_exporter": "python",
   "pygments_lexer": "ipython3",
   "version": "3.7.3"
  }
 },
 "nbformat": 4,
 "nbformat_minor": 2
}
